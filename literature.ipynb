{
 "cells": [
  {
   "cell_type": "markdown",
   "metadata": {},
   "source": [
    "## Literature"
   ]
  },
  {
   "cell_type": "markdown",
   "metadata": {},
   "source": [
    "---"
   ]
  },
  {
   "cell_type": "markdown",
   "metadata": {},
   "source": [
    "### Imports"
   ]
  },
  {
   "cell_type": "code",
   "execution_count": 5,
   "metadata": {},
   "outputs": [],
   "source": [
    "import utils\n",
    "import warnings\n",
    "import numpy as np\n",
    "import astropy.units as u\n",
    "warnings.filterwarnings('ignore')\n",
    "utils.rcparams()"
   ]
  },
  {
   "cell_type": "markdown",
   "metadata": {},
   "source": [
    "---"
   ]
  },
  {
   "cell_type": "markdown",
   "metadata": {},
   "source": [
    "### Literature Data"
   ]
  },
  {
   "cell_type": "code",
   "execution_count": 6,
   "metadata": {},
   "outputs": [],
   "source": [
    "# Literature units - alpha [] / logm_star [log(Msun)] / logphi_star_perdex [log(Mpc-3 dex-1)] (Includes the factor ln(10))\n",
    "\n",
    "vlahakis_2005 = {'z_bins': np.array([0,0.05]),\n",
    "              'z_bin_centers': np.array([0.025]),\n",
    "              'logm_range': np.array([(4.65,9.17)]),\n",
    "              'alpha_low': np.array([-1.41]),\n",
    "              'alpha': np.array([-1.39]),\n",
    "              'alpha_high': np.array([-1.36]),\n",
    "              'logm_star_low': np.array([7.6748]),\n",
    "              'logm_star': np.array([7.7226]),\n",
    "              'logm_star_high': np.array([7.7581]),\n",
    "              'logphi_star_perdex_low': np.array([-2.4509]),\n",
    "              'logphi_star_perdex': np.array([-2.3936]),\n",
    "              'logphi_star_perdex_high': np.array([-2.3205]),\n",
    "              'cosmology': [75*u.km/u.s/u.Mpc, 0.3, 0, 0.7],\n",
    "              'kappa': 0.89}\n",
    "\n",
    "dunne_2011 = {'z_bins': np.array([0,0.1,0.2,0.3,0.4,0.5]),\n",
    "              'z_bin_centers': np.array([0.05,0.15,0.25,0.35,0.45]),\n",
    "              'logm_range': np.array([(5.8450,8.1760),(7.2552,8.6232),(7.6989,8.8450),(7.9444,8.8450),(8.1760,9.0791)]),\n",
    "              'alpha_low': np.array([-1.01,-1.01,-1.01,-1.01,-1.01]),\n",
    "              'alpha': np.array([-1.01,-1.01,-1.01,-1.01,-1.01]),\n",
    "              'alpha_high': np.array([-1.01,-1.01,-1.01,-1.01,-1.01]),\n",
    "              'logm_star_low': np.array([7.5314,7.8312,8.1702,8.2966,8.4393]),\n",
    "              'logm_star': np.array([7.5831,7.8591,8.2041,8.3344,8.4698]),\n",
    "              'logm_star_high': np.array([7.6253,7.8819,8.2329,8.3729,8.5010]),\n",
    "              'logphi_star_perdex_low': np.array([-2.2798,-2.3595,-2.5800,-2.6020,-2.8297]),\n",
    "              'logphi_star_perdex': np.array([-2.2313,-2.3205,-2.5272,-2.4894,-2.7569]),\n",
    "              'logphi_star_perdex_high': np.array([-2.1897,-2.2798,-2.4762,-2.3990,-2.6861]),\n",
    "              'cosmology': [71*u.km/u.s/u.Mpc, 0.27, 0, 0.73],\n",
    "              'kappa': 0.89}\n",
    "\n",
    "beeston_2018 = {'z_bins': np.array([0,0.1]),\n",
    "                'z_bin_centers': np.array([0.05]),\n",
    "                'logm_range': np.array([(4.1760,8.3424)]),\n",
    "                'alpha_low': np.array([-1.23]),\n",
    "                'alpha': np.array([-1.22]),\n",
    "                'alpha_high': np.array([-1.21]),\n",
    "                'logm_star_low': np.array([7.6503]),\n",
    "                'logm_star': np.array([7.6674]),\n",
    "                'logm_star_high': np.array([7.6839]),\n",
    "                'logphi_star_perdex_low': np.array([-2.2232]),\n",
    "                'logphi_star_perdex': np.array([-2.2034]),\n",
    "                'logphi_star_perdex_high': np.array([-2.1844]),\n",
    "                'cosmology': [70*u.km/u.s/u.Mpc, 0.3, 0, 0.7],\n",
    "                'kappa': 0.89}\n",
    "\n",
    "pozzi_2020 = {'z_bins': np.array([0.1,0.25,0.4,0.8,1.2,1.8,2.5]),\n",
    "              'z_bin_centers': np.array([0.175,0.325,0.6,1,1.5,2.15]),\n",
    "              'logm_range': np.array([(6.8450,8.8450),(7.6989,8.6989),(7.9542,8.9542),(8.6020,9.3010),(8.6989,9.6020),(8.8450,10.3010)]),\n",
    "              'alpha_low': np.array([-1.63,-1.48,-1.48,-1.48,-1.48,-1.48]),\n",
    "              'alpha': np.array([-1.48,-1.48,-1.48,-1.48,-1.48,-1.48]),\n",
    "              'alpha_high': np.array([-1.33,-1.48,-1.48,-1.48,-1.48,-1.48]),\n",
    "              'logm_star_low': np.array([7.5,7.77,8.03,8.15,8.53,8.82]),\n",
    "              'logm_star': np.array([7.58,7.8,8.05,8.22,8.58,8.91]),\n",
    "              'logm_star_high': np.array([7.66,7.83,8.07,8.29,8.63,9]),\n",
    "              'logphi_star_perdex_low': np.array([-2.4814,-2.3665,-2.4317,-2.5228,-3.1549,-10000]),\n",
    "              'logphi_star_perdex': np.array([-2.3098,-2.3010,-2.3565,-2.4814,-3.0969,-3.6989]),\n",
    "              'logphi_star_perdex_high': np.array([-2.1870,-2.2441,-2.2924,-2.4436,-3.0457,-3.3979]),\n",
    "              'cosmology': [70*u.km/u.s/u.Mpc, 0.3, 0, 0.7],\n",
    "              'kappa': 0.4}\n",
    "\n",
    "dudzeviciute_2021 = {'z_bins': np.array([1,2,3,4]),\n",
    "                     'z_bin_centers': np.array([1.5,3.5]),\n",
    "                     'logm_range': np.array([(8.4471,9.3424),(8.4471,9.3424)]),\n",
    "                     'alpha_low': np.array([-1.5,-1.5]),\n",
    "                     'alpha': np.array([-1.5,-1.5]),\n",
    "                     'alpha_high': np.array([-1.5,-1.5]),\n",
    "                     'logm_star_low': np.array([8.3802,9.3802]),\n",
    "                     'logm_star': np.array([8.5910,9.5051]),\n",
    "                     'logm_star_high': np.array([8.8573,9.6812]),\n",
    "                     'logphi_star_perdex_low': np.array([-4.2218,-5.2596]),\n",
    "                     'logphi_star_perdex': np.array([-3.7958,-5.1191]),\n",
    "                     'logphi_star_perdex_high': np.array([-3.3979,-5]),\n",
    "                     'cosmology': [70*u.km/u.s/u.Mpc, 0.3, 0, 0.7],\n",
    "                     'kappa': 0.89}\n",
    "\n",
    "literature = {'Vlahakis+2005': vlahakis_2005,\n",
    "              'Dunne+2011': dunne_2011,\n",
    "              'Beeston+2018': beeston_2018,\n",
    "              'Pozzi+2020': pozzi_2020,\n",
    "              'Dudzeviciute+2021': dudzeviciute_2021}"
   ]
  },
  {
   "cell_type": "code",
   "execution_count": 9,
   "metadata": {},
   "outputs": [],
   "source": [
    "# Save results of literature\n",
    "utils.save_result(literature, 'literature_dmf')"
   ]
  },
  {
   "cell_type": "code",
   "execution_count": null,
   "metadata": {},
   "outputs": [],
   "source": []
  }
 ],
 "metadata": {
  "kernelspec": {
   "display_name": "Python 3",
   "language": "python",
   "name": "python3"
  },
  "language_info": {
   "codemirror_mode": {
    "name": "ipython",
    "version": 3
   },
   "file_extension": ".py",
   "mimetype": "text/x-python",
   "name": "python",
   "nbconvert_exporter": "python",
   "pygments_lexer": "ipython3",
   "version": "3.11.0"
  }
 },
 "nbformat": 4,
 "nbformat_minor": 2
}
